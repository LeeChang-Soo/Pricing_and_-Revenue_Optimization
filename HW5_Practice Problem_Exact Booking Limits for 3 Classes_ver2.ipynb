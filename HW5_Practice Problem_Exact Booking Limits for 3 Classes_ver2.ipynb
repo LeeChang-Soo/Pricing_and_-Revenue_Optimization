{
 "cells": [
  {
   "cell_type": "markdown",
   "metadata": {},
   "source": [
    "# Practice Problem: Exact Booking Limits for 3 Classes"
   ]
  },
  {
   "cell_type": "code",
   "execution_count": 1,
   "metadata": {},
   "outputs": [],
   "source": [
    "import numpy as np\n",
    "import scipy as sp\n",
    "import sympy\n",
    "import random\n",
    "import matplotlib.pyplot as plt"
   ]
  },
  {
   "cell_type": "code",
   "execution_count": 2,
   "metadata": {},
   "outputs": [],
   "source": [
    "sympy.init_printing(use_latex='mathjax')  "
   ]
  },
  {
   "cell_type": "markdown",
   "metadata": {},
   "source": [
    "Southwest Airlines sells three different price tickets for the flight from Austin to Dallas: (1) Wanna Get Away; (2) Anytime; (3) Business Select. The prices are fixed at \\$90, \\$227, and \\$243 <p>\n",
    "The flight has total 100 seats."
   ]
  },
  {
   "cell_type": "code",
   "execution_count": 3,
   "metadata": {},
   "outputs": [],
   "source": [
    "p1 = 90; p2 = 227; p3 = 243\n",
    "\n",
    "C = 100"
   ]
  },
  {
   "cell_type": "markdown",
   "metadata": {},
   "source": [
    "The numbers of potential budget, moderate and business travelers can be approximated by uniform random variables: U(20,80), U(20,40) and U(10,30), respectively. "
   ]
  },
  {
   "cell_type": "markdown",
   "metadata": {},
   "source": [
    "![Bid_price](BidPrice.png)"
   ]
  },
  {
   "cell_type": "code",
   "execution_count": 4,
   "metadata": {},
   "outputs": [],
   "source": [
    "def f(x):\n",
    "    return random.randint(20, 80)   \n",
    "\n",
    "def g(y):\n",
    "    return random.randint(20, 40)\n",
    "\n",
    "def h(z):\n",
    "    return random.randint(10, 30)"
   ]
  },
  {
   "cell_type": "markdown",
   "metadata": {},
   "source": [
    "![Period1](period1.png)"
   ]
  },
  {
   "cell_type": "code",
   "execution_count": 5,
   "metadata": {},
   "outputs": [],
   "source": [
    "x, y, z, b1, b2, b3    = sympy.symbols('x y z b1 b2 b3')\n"
   ]
  },
  {
   "cell_type": "code",
   "execution_count": 6,
   "metadata": {},
   "outputs": [],
   "source": [
    "r11_1 = p1 * (z*h(z))                  # R1(x, y)      left term\n",
    "\n",
    "r12_1 = p1 * (z*h(z))                  # R1(x, b2-x)   left term\n",
    "\n",
    "r13_1 = p1 * (z*h(z))                  # R1(b3, y)     left term\n",
    "\n",
    "r14_1 = p1 * (z*h(z))                  # R1(b3, b2-b3) left term"
   ]
  },
  {
   "cell_type": "code",
   "execution_count": 7,
   "metadata": {},
   "outputs": [],
   "source": [
    "r11_2 = p1 * (C - x - y)      * h(z)   # R1(x, y)      right term\n",
    "\n",
    "r12_2 = p1 * (C - x - (b2-x)) * h(z)   # R1(x, b2-x)   right term\n",
    "\n",
    "r13_2 = p1 * (C- b3 - y)      * h(z)   # R1(b3, y)     right term\n",
    "\n",
    "r14_2 = p1 * (C- b3 - (b2-b3))* h(z)   # R1(b3, b2-b3) right term"
   ]
  },
  {
   "cell_type": "code",
   "execution_count": 10,
   "metadata": {},
   "outputs": [],
   "source": [
    "R11 = sympy.integrate(r11_1, (z, 0, C-x-y))        + sympy.integrate(r11_2, (z, C-x-y,        np.Inf))\n",
    "\n",
    "R12 = sympy.integrate(r12_1, (z, 0, C-x-(b2-x)))   + sympy.integrate(r12_2, (z, C-x-(b2-x),   np.Inf))\n",
    "\n",
    "R13 = sympy.integrate(r13_1, (z, 0, C-b3-y))       + sympy.integrate(r13_2, (z, C-b3-y,       np.Inf))\n",
    "\n",
    "R14 = sympy.integrate(r14_1, (z, 0, C-b3-(b2-b3))) + sympy.integrate(r14_2, (z, C-b3-(b2-b3), np.Inf))"
   ]
  },
  {
   "cell_type": "markdown",
   "metadata": {},
   "source": [
    "![Period2](period2.png)"
   ]
  },
  {
   "cell_type": "code",
   "execution_count": 11,
   "metadata": {},
   "outputs": [],
   "source": [
    "r21_1 = (p2 * y       + R11) * g(y)    # R2(b2, x)      left term\n",
    "\n",
    "r22_1 = (p2 * y       + R13) * g(y)    # R2(b2, b3)     left term"
   ]
  },
  {
   "cell_type": "code",
   "execution_count": 12,
   "metadata": {},
   "outputs": [],
   "source": [
    "r21_2 = (p2 * (b2-x)  + R12) * g(y)    # R2(b2, x)      right term\n",
    "\n",
    "r22_2 = (p2 * (b2-b3) + R14) * g(y)    # R2(b2, b3)     right term"
   ]
  },
  {
   "cell_type": "code",
   "execution_count": 13,
   "metadata": {},
   "outputs": [],
   "source": [
    "R21 = sympy.integrate(r21_1, (y, 0, b2-x))  + sympy.integrate(r21_2, (y, b2-x,  np.Inf))\n",
    "\n",
    "R22 = sympy.integrate(r22_1, (y, 0, b2-b3)) + sympy.integrate(r22_2, (y, b2-b3, np.Inf))"
   ]
  },
  {
   "cell_type": "markdown",
   "metadata": {},
   "source": [
    "![Period3](period3.png)"
   ]
  },
  {
   "cell_type": "code",
   "execution_count": 16,
   "metadata": {},
   "outputs": [],
   "source": [
    "r3_1 = (p3*x  + R12) * f(x)         # R3(b2, b3)      left term\n",
    "\n",
    "r3_2 = (p3*b3 + R22) * f(x)         # R3(b2, b3)      right term"
   ]
  },
  {
   "cell_type": "code",
   "execution_count": 17,
   "metadata": {},
   "outputs": [],
   "source": [
    "R3 = sympy.integrate(r3_1, (x, 0,  b3))  + sympy.integrate(r3_2, (y, b3,  np.Inf))"
   ]
  },
  {
   "cell_type": "markdown",
   "metadata": {},
   "source": [
    "## Question"
   ]
  },
  {
   "cell_type": "markdown",
   "metadata": {},
   "source": [
    "### (1) Express the expected revenue of Southwest Airlines as a function of b3 and b2."
   ]
  },
  {
   "cell_type": "code",
   "execution_count": 19,
   "metadata": {},
   "outputs": [
    {
     "name": "stdout",
     "output_type": "stream",
     "text": [
      "R3(b2, b3) :  -inf*b2 + 8748*b3**2 + b3*(-42120*b2**2 - inf*b2 + inf) - b3*(-inf*b2 - inf*b3 - inf*(-2520*b2 + 252000)*(-b2 + 100) + inf*(-b2 + 100)**2 - 237600*(b2 - b3)**3 + 44*(b2 - b3)**2*(-16200*b3 - inf) + 44*(b2 - b3)*(-16200*b3**2 - inf*b3 + inf) - 44*(b2 - b3)*(-inf*b2 - 5902*b3 - 26*(-2520*b2 + 252000)*(-b2 + 100) + 12870*(-b2 + 100)**2 + inf) + inf) - inf*b3 - inf*(-2520*b2 + 252000)*(-b2 + 100) + inf*(-b2 + 100)**2 - inf*(b2 - b3)**3 + inf*(b2 - b3)**2*(-16200*b3 - inf) + inf*(b2 - b3)*(-16200*b3**2 - inf*b3 + inf) - inf*(b2 - b3)*(-inf*b2 - 5902*b3 - 26*(-2520*b2 + 252000)*(-b2 + 100) + 12870*(-b2 + 100)**2 + inf) + inf\n"
     ]
    }
   ],
   "source": [
    "print('R3(b2, b3) : ', R3)"
   ]
  },
  {
   "cell_type": "markdown",
   "metadata": {},
   "source": [
    "### (2)\tDevelop search algorithms to find the (close) optimal booking limits b3 and b2 (assume integer values; you can always try the naive exhaustive search)."
   ]
  },
  {
   "cell_type": "markdown",
   "metadata": {},
   "source": [
    "![maximization](maximization.png)"
   ]
  },
  {
   "cell_type": "code",
   "execution_count": 20,
   "metadata": {},
   "outputs": [],
   "source": [
    "# if bb3 = b3, bb3 >= 20 and bb3 <=80 in uniform variable because b3 is {budget}\n",
    "\n",
    "bb3 = np.linspace(20, 80, 100)"
   ]
  },
  {
   "cell_type": "code",
   "execution_count": 32,
   "metadata": {},
   "outputs": [],
   "source": [
    "from scipy.optimize import minimize"
   ]
  },
  {
   "cell_type": "code",
   "execution_count": null,
   "metadata": {},
   "outputs": [],
   "source": []
  },
  {
   "cell_type": "code",
   "execution_count": null,
   "metadata": {},
   "outputs": [],
   "source": []
  },
  {
   "cell_type": "code",
   "execution_count": null,
   "metadata": {},
   "outputs": [],
   "source": []
  },
  {
   "cell_type": "code",
   "execution_count": null,
   "metadata": {},
   "outputs": [],
   "source": []
  }
 ],
 "metadata": {
  "kernelspec": {
   "display_name": "Python 3",
   "language": "python",
   "name": "python3"
  },
  "language_info": {
   "codemirror_mode": {
    "name": "ipython",
    "version": 3
   },
   "file_extension": ".py",
   "mimetype": "text/x-python",
   "name": "python",
   "nbconvert_exporter": "python",
   "pygments_lexer": "ipython3",
   "version": "3.6.4"
  }
 },
 "nbformat": 4,
 "nbformat_minor": 2
}
