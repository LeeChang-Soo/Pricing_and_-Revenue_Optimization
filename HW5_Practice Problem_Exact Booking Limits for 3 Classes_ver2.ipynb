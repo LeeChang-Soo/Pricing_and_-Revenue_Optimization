{
 "cells": [
  {
   "cell_type": "markdown",
   "metadata": {},
   "source": [
    "# Practice Problem: Exact Booking Limits for 3 Classes"
   ]
  },
  {
   "cell_type": "markdown",
   "metadata": {},
   "source": [
    "Southwest Airlines sells three different price tickets for the flight from Austin to Dallas: (1) Wanna Get Away; (2) Anytime; (3) Business Select. The prices are fixed at $90, $227, and $243, respectively, which target three different groups of customers: budget travelers, moderate travelers, and business travelers. For simplicity, suppose that we can divide the timeline into three periods before departure, and the budget travelers always buy first, followed by the moderate travelers and business travelers in sequence. Moreover, the numbers of potential budget, moderate and business travelers can be approximated by uniform random variables: U(20,80), U(20,40) and U(10,30), respectively. The flight has total 100 seats. Southwest Airlines need to decide the nested booking limits b3 and b2 corresponding to {budget} and {budget, moderate}, to protect a certain amount of seats for the higher-pay travelers (the nested booking limit b1 for {budget, moderate and business} is simply the capacity level 100). \n",
    "\n",
    "(1)\tExpress the expected revenue of Southwest Airlines as a function of b3 and b2. \n",
    "\n",
    "(2)\tDevelop search algorithms to find the (close) optimal booking limits b3 and b2 (assume integer values; you can always try the naive exhaustive search).\n"
   ]
  },
  {
   "cell_type": "code",
   "execution_count": 1,
   "metadata": {},
   "outputs": [],
   "source": [
    "import numpy as np\n",
    "import sympy\n",
    "import random\n",
    "import matplotlib.pyplot as plt\n",
    "import scipy.optimize as opt"
   ]
  },
  {
   "cell_type": "code",
   "execution_count": 2,
   "metadata": {},
   "outputs": [],
   "source": [
    "sympy.init_printing(use_latex='mathjax')  "
   ]
  },
  {
   "cell_type": "markdown",
   "metadata": {},
   "source": [
    "Southwest Airlines sells three different price tickets for the flight from Austin to Dallas: (1) Wanna Get Away; (2) Anytime; (3) Business Select. The prices are fixed at \\$90, \\$227, and \\$243 <p>\n",
    "The flight has total 100 seats."
   ]
  },
  {
   "cell_type": "code",
   "execution_count": 3,
   "metadata": {},
   "outputs": [],
   "source": [
    "p1 = 90; p2 = 227; p3 = 243\n",
    "\n",
    "C = 100; Inf = 100"
   ]
  },
  {
   "cell_type": "markdown",
   "metadata": {},
   "source": [
    "The numbers of potential budget, moderate and business travelers can be approximated by uniform random variables: U(20,80), U(20,40) and U(10,30), respectively. "
   ]
  },
  {
   "cell_type": "markdown",
   "metadata": {},
   "source": [
    "![Bid_price](BidPrice.png)"
   ]
  },
  {
   "cell_type": "code",
   "execution_count": 4,
   "metadata": {},
   "outputs": [],
   "source": [
    "def f(x):\n",
    "    return random.randint(20, 80)   \n",
    "\n",
    "def g(y):\n",
    "    return random.randint(20, 40)\n",
    "\n",
    "def h(z):\n",
    "    return random.randint(10, 30)"
   ]
  },
  {
   "cell_type": "markdown",
   "metadata": {},
   "source": [
    "![Period1](period1.png)"
   ]
  },
  {
   "cell_type": "code",
   "execution_count": 5,
   "metadata": {},
   "outputs": [],
   "source": [
    "x, y, z, b1, b2, b3    = sympy.symbols('x y z b1 b2 b3')\n"
   ]
  },
  {
   "cell_type": "code",
   "execution_count": 6,
   "metadata": {},
   "outputs": [],
   "source": [
    "r11_1 = p1 * (z*h(z))                  # R1(x, y)      left term\n",
    "\n",
    "r12_1 = p1 * (z*h(z))                  # R1(x, b2-x)   left term\n",
    "\n",
    "r13_1 = p1 * (z*h(z))                  # R1(b3, y)     left term\n",
    "\n",
    "r14_1 = p1 * (z*h(z))                  # R1(b3, b2-b3) left term"
   ]
  },
  {
   "cell_type": "code",
   "execution_count": 7,
   "metadata": {},
   "outputs": [],
   "source": [
    "r11_2 = p1 * (C - x - y)      * h(z)   # R1(x, y)      right term\n",
    "\n",
    "r12_2 = p1 * (C - x - (b2-x)) * h(z)   # R1(x, b2-x)   right term\n",
    "\n",
    "r13_2 = p1 * (C- b3 - y)      * h(z)   # R1(b3, y)     right term\n",
    "\n",
    "r14_2 = p1 * (C- b3 - (b2-b3))* h(z)   # R1(b3, b2-b3) right term"
   ]
  },
  {
   "cell_type": "code",
   "execution_count": 8,
   "metadata": {},
   "outputs": [],
   "source": [
    "R11 = sympy.integrate(r11_1, (z, 0, C-x-y))        + sympy.integrate(r11_2, (z, C-x-y,        Inf))\n",
    "\n",
    "R12 = sympy.integrate(r12_1, (z, 0, C-x-(b2-x)))   + sympy.integrate(r12_2, (z, C-x-(b2-x),   Inf))\n",
    "\n",
    "R13 = sympy.integrate(r13_1, (z, 0, C-b3-y))       + sympy.integrate(r13_2, (z, C-b3-y,       Inf))\n",
    "\n",
    "R14 = sympy.integrate(r14_1, (z, 0, C-b3-(b2-b3))) + sympy.integrate(r14_2, (z, C-b3-(b2-b3), Inf))"
   ]
  },
  {
   "cell_type": "markdown",
   "metadata": {},
   "source": [
    "![Period2](period2.png)"
   ]
  },
  {
   "cell_type": "code",
   "execution_count": 9,
   "metadata": {},
   "outputs": [],
   "source": [
    "r21_1 = (p2 * y       + R11) * g(y)    # R2(b2, x)      left term\n",
    "\n",
    "r22_1 = (p2 * y       + R13) * g(y)    # R2(b2, b3)     left term"
   ]
  },
  {
   "cell_type": "code",
   "execution_count": 10,
   "metadata": {},
   "outputs": [],
   "source": [
    "r21_2 = (p2 * (b2-x)  + R12) * g(y)    # R2(b2, x)      right term\n",
    "\n",
    "r22_2 = (p2 * (b2-b3) + R14) * g(y)    # R2(b2, b3)     right term"
   ]
  },
  {
   "cell_type": "code",
   "execution_count": 11,
   "metadata": {},
   "outputs": [],
   "source": [
    "R21 = sympy.integrate(r21_1, (y, 0, b2-x))  + sympy.integrate(r21_2, (y, b2-x,  Inf))\n",
    "\n",
    "R22 = sympy.integrate(r22_1, (y, 0, b2-b3)) + sympy.integrate(r22_2, (y, b2-b3, Inf))"
   ]
  },
  {
   "cell_type": "markdown",
   "metadata": {},
   "source": [
    "![Period3](period3.png)"
   ]
  },
  {
   "cell_type": "code",
   "execution_count": 12,
   "metadata": {},
   "outputs": [],
   "source": [
    "r3_1 = (p3*x  + R12) * f(x)         # R3(b2, b3)      left term\n",
    "\n",
    "r3_2 = (p3*b3 + R22) * f(x)         # R3(b2, b3)      right term"
   ]
  },
  {
   "cell_type": "code",
   "execution_count": 13,
   "metadata": {},
   "outputs": [],
   "source": [
    "R3 = sympy.integrate(r3_1, (x, 0,  b3))  + sympy.integrate(r3_2, (y, b3, Inf))"
   ]
  },
  {
   "cell_type": "markdown",
   "metadata": {},
   "source": [
    "## Question"
   ]
  },
  {
   "cell_type": "markdown",
   "metadata": {},
   "source": [
    "### (1) Express the expected revenue of Southwest Airlines as a function of b3 and b2."
   ]
  },
  {
   "cell_type": "code",
   "execution_count": 14,
   "metadata": {},
   "outputs": [
    {
     "name": "stdout",
     "output_type": "stream",
     "text": [
      "R3(b2, b3) :  -2007395950000*b2 + 16767*b3**2/2 + b3*(-105570*b2**2 + 4968000*b2 + 558900000) - b3*(-20073959500*b2 - 23031995*b3 - 101500*(-1980*b2 + 198000)*(-b2 + 100) + 50242500*(-b2 + 100)**2 - 71400*(b2 - b3)**3 + 35*(b2 - b3)**2*(-6120*b3 - 1220141) + 35*(b2 - b3)*(-6120*b3**2 - 2448000*b3 + 306000000) - 35*(b2 - b3)*(-5735417*b2 - 6583*b3 - 29*(-1980*b2 + 198000)*(-b2 + 100) + 14355*(-b2 + 100)**2 + 574200000) + 2009700000000) - 2303199500*b3 - 10150000*(-1980*b2 + 198000)*(-b2 + 100) + 5024250000*(-b2 + 100)**2 - 7140000*(b2 - b3)**3 + 3500*(b2 - b3)**2*(-6120*b3 - 1220141) + 3500*(b2 - b3)*(-6120*b3**2 - 2448000*b3 + 306000000) - 3500*(b2 - b3)*(-5735417*b2 - 6583*b3 - 29*(-1980*b2 + 198000)*(-b2 + 100) + 14355*(-b2 + 100)**2 + 574200000) + 200970000000000\n"
     ]
    }
   ],
   "source": [
    "print('R3(b2, b3) : ', R3)"
   ]
  },
  {
   "cell_type": "markdown",
   "metadata": {},
   "source": [
    "### (2)\tDevelop search algorithms to find the (close) optimal booking limits b3 and b2 (assume integer values; you can always try the naive exhaustive search)."
   ]
  },
  {
   "cell_type": "markdown",
   "metadata": {},
   "source": [
    "![maximization](maximization.png)"
   ]
  },
  {
   "cell_type": "code",
   "execution_count": 19,
   "metadata": {},
   "outputs": [],
   "source": [
    "def optima(b2, b3):\n",
    "    return -(-2007395950000*b2 + 16767*b3**2/2 + b3*(-105570*b2**2 + 4968000*b2 + 558900000) - b3*(-20073959500*b2 - 23031995*b3 - 101500*(-1980*b2 + 198000)*(-b2 + 100) + 50242500*(-b2 + 100)**2 - 71400*(b2 - b3)**3 + 35*(b2 - b3)**2*(-6120*b3 - 1220141) + 35*(b2 - b3)*(-6120*b3**2 - 2448000*b3 + 306000000) - 35*(b2 - b3)*(-5735417*b2 - 6583*b3 - 29*(-1980*b2 + 198000)*(-b2 + 100) + 14355*(-b2 + 100)**2 + 574200000) + 2009700000000) - 2303199500*b3 - 10150000*(-1980*b2 + 198000)*(-b2 + 100) + 5024250000*(-b2 + 100)**2 - 7140000*(b2 - b3)**3 + 3500*(b2 - b3)**2*(-6120*b3 - 1220141) + 3500*(b2 - b3)*(-6120*b3**2 - 2448000*b3 + 306000000) - 3500*(b2 - b3)*(-5735417*b2 - 6583*b3 - 29*(-1980*b2 + 198000)*(-b2 + 100) + 14355*(-b2 + 100)**2 + 574200000) + 200970000000000)"
   ]
  },
  {
   "cell_type": "code",
   "execution_count": 20,
   "metadata": {},
   "outputs": [
    {
     "data": {
      "text/plain": [
       "      fun: -55402054528164.22\n",
       " hess_inv: array([[3.61823422e-11]])\n",
       "      jac: array([0.])\n",
       "  message: 'Optimization terminated successfully.'\n",
       "     nfev: 27\n",
       "      nit: 6\n",
       "     njev: 9\n",
       "   status: 0\n",
       "  success: True\n",
       "        x: array([36.01095597])"
      ]
     },
     "execution_count": 20,
     "metadata": {},
     "output_type": "execute_result"
    }
   ],
   "source": [
    "res = opt.minimize(optima, 20, 20)\n",
    "res"
   ]
  },
  {
   "cell_type": "code",
   "execution_count": 27,
   "metadata": {},
   "outputs": [
    {
     "name": "stdout",
     "output_type": "stream",
     "text": [
      "The (close) optimal booking limits b2 : [37.] and b3 : [43.]\n"
     ]
    }
   ],
   "source": [
    "print('The (close) optimal booking limits b2 : {0} and b3 : {1}'.format(np.ceil(res.x), 80 - np.ceil(res.x)))"
   ]
  }
 ],
 "metadata": {
  "kernelspec": {
   "display_name": "Python 3",
   "language": "python",
   "name": "python3"
  },
  "language_info": {
   "codemirror_mode": {
    "name": "ipython",
    "version": 3
   },
   "file_extension": ".py",
   "mimetype": "text/x-python",
   "name": "python",
   "nbconvert_exporter": "python",
   "pygments_lexer": "ipython3",
   "version": "3.6.4"
  }
 },
 "nbformat": 4,
 "nbformat_minor": 2
}
